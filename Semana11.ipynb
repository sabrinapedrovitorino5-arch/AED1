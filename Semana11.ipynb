{
 "cells": [
  {
   "cell_type": "code",
   "execution_count": 42,
   "id": "8a4258b0-911b-491c-9e13-e42e073fe782",
   "metadata": {},
   "outputs": [
    {
     "name": "stdout",
     "output_type": "stream",
     "text": [
      "Total de Vendas no Mês: R$ 52810.00\n",
      "Média Diária de Vendas: R$ 2640.50\n"
     ]
    }
   ],
   "source": [
    "vendas_agosto = {\n",
    "    \"04/08/2025\": 2350,\n",
    "    \"05/08/2025\": 1980,\n",
    "    \"06/08/2025\": 2540,\n",
    "    \"07/08/2025\": 2100,\n",
    "    \"08/08/2025\": 3050,\n",
    "    \"11/08/2025\": 2650,\n",
    "    \"12/08/2025\": 2180,\n",
    "    \"13/08/2025\": 2760,\n",
    "    \"14/08/2025\": 2920,\n",
    "    \"15/08/2025\": 3100,\n",
    "    \"18/08/2025\": 2300,\n",
    "    \"19/08/2025\": 2430,\n",
    "    \"20/08/2025\": 2210,\n",
    "    \"21/08/2025\": 2790,\n",
    "    \"22/08/2025\": 2970,\n",
    "    \"25/08/2025\": 3100,\n",
    "    \"26/08/2025\": 2880,\n",
    "    \"27/08/2025\": 2600,\n",
    "    \"28/08/2025\": 2500,\n",
    "    \"29/08/2025\": 3400\n",
    "}\n",
    "\n",
    "vendas_agosto.values()\n",
    "\n",
    "total_vendas_mes = sum(vendas_agosto.values()) \n",
    "numero_dias = len(vendas_agosto)\n",
    "media_diaria = total_vendas_mes / numero_dias\n",
    "\n",
    "print(f\"Total de Vendas no Mês: R$ {total_vendas_mes:.2f}\") \n",
    "print(f\"Média Diária de Vendas: R$ {media_diaria:.2f}\")"
   ]
  },
  {
   "cell_type": "code",
   "execution_count": 44,
   "id": "18c40433-fba9-4a33-8b36-9bbebd3fac42",
   "metadata": {},
   "outputs": [
    {
     "name": "stdout",
     "output_type": "stream",
     "text": [
      "\n",
      "--- SOMA SEMANAIS ---\n",
      "Total da Semana 1: R$ 12020.00\n",
      "Total da Semana 2: R$ 13610.00\n",
      "Total da Semana 3: R$ 12700.00\n",
      "Total da Semana 4: R$ 14480.00\n"
     ]
    }
   ],
   "source": [
    "lista_vendas = list (vendas_agosto.values())\n",
    "\n",
    "somas_semanais = []\n",
    "vendas_por_semana = 5\n",
    "\n",
    "for i in range(0, len(lista_vendas), vendas_por_semana):\n",
    "    vendas_da_semana = lista_vendas[i : i + vendas_por_semana]\n",
    "    soma_semana = sum(vendas_da_semana)\n",
    "    somas_semanais.append(soma_semana)\n",
    "print(\"\\n--- SOMA SEMANAIS ---\")\n",
    "\n",
    "for num, total in enumerate(somas_semanais):\n",
    "    print(f\"Total da Semana {num + 1}: R$ {total:.2f}\")\n",
    "                "
   ]
  },
  {
   "cell_type": "code",
   "execution_count": 46,
   "id": "74b856d5-a58a-46a6-9f0f-8f1024e44dc4",
   "metadata": {},
   "outputs": [
    {
     "name": "stdout",
     "output_type": "stream",
     "text": [
      "\n",
      "--- MELHOR DIA DE VENDAS ---\n",
      "Valor Máximo de Vendas: R$ 3400.00\n",
      "Dia da Maior Venda: 29/08/2025\n"
     ]
    }
   ],
   "source": [
    "max_venda = max(vendas_agosto.values()) \n",
    "dia_max = \"\"\n",
    "\n",
    "for data, venda in vendas_agosto.items ():\n",
    "    if venda == max_venda:\n",
    "        dia_max = data \n",
    "print(\"\\n--- MELHOR DIA DE VENDAS ---\")\n",
    "print(f\"Valor Máximo de Vendas: R$ {max_venda:.2f}\")\n",
    "print(f\"Dia da Maior Venda: {dia_max}\")"
   ]
  },
  {
   "cell_type": "code",
   "execution_count": 48,
   "id": "b93a7c58-da46-493c-aa64-7c522affb548",
   "metadata": {},
   "outputs": [
    {
     "name": "stdout",
     "output_type": "stream",
     "text": [
      "\n",
      "--- PIOR DIA DE VENDAS ---\n",
      "Valor Mínimo de Vendas: R$  1980.00\n",
      "Dia de Menor Venda: 05/08/2025\n"
     ]
    }
   ],
   "source": [
    "min_venda = min (vendas_agosto.values())\n",
    "dia_min = \"\"\n",
    "\n",
    "for data, venda in vendas_agosto.items ():\n",
    "    if venda == min_venda:\n",
    "        dia_min = data\n",
    "print(\"\\n--- PIOR DIA DE VENDAS ---\")\n",
    "print(f\"Valor Mínimo de Vendas: R$ {min_venda: .2f}\")\n",
    "print(f\"Dia de Menor Venda: {dia_min}\")"
   ]
  },
  {
   "cell_type": "code",
   "execution_count": 53,
   "id": "9a774818-9651-44d0-a340-bca0f57643b9",
   "metadata": {},
   "outputs": [
    {
     "name": "stdout",
     "output_type": "stream",
     "text": [
      "Diferença Percentual Calculada: 28.76%\n"
     ]
    }
   ],
   "source": [
    "diferenca_valor = max_venda - media_diaria\n",
    "diferenca_percentual = (diferenca_valor / media_diaria) * 100\n",
    "\n",
    "print(f\"Diferença Percentual Calculada: {diferenca_percentual:.2f}%\")"
   ]
  },
  {
   "cell_type": "code",
   "execution_count": 65,
   "id": "301a49d4-a22f-4f83-bb4d-4d7e84363f16",
   "metadata": {},
   "outputs": [
    {
     "name": "stdout",
     "output_type": "stream",
     "text": [
      "\n",
      "==================================================\n",
      "     RELATÓRIO DE ANÁLISE DE VENDAS - AGOSTO\n",
      "==================================================\n",
      "TOTAL DE DIAS ANALISADOS: 20 dias\n",
      "TOTAL GERAL DE VENDAS: R$ 52810.00\n",
      "MÉDIA DIÁRIA DE VENDAS: R$ 2640.50\n",
      "--------------------------------------------------\n",
      "ANÁLISE SEMANAL DE VENDAS:\n",
      "  - Semana 1: R$ 12020.00\n",
      "  - Semana 2: R$ 13610.00\n",
      "  - Semana 3: R$ 12700.00\n",
      "  - Semana 4: R$ 14480.00\n",
      "--------------------------------------------------\n",
      "MELHOR DIA DE VENDAS:\n",
      "Dia: 29/08/2025\n",
      "Valor Recorde: R$ 3400.00\n",
      "--------------------------------------------------\n",
      "PONTO DE ATENÇÃO:\n",
      "Dia: 05/08/2025\n",
      "Valor Mínimo: R$ 1980.00\n",
      "--------------------------------------------------\n",
      "INSIGHTS DE PICO\n",
      "O pico de vendas (29/08/2025) superou a média diária em 28.76%.\n",
      "==================================================\n",
      "\n",
      "==================================================\n",
      "FIM DO RELATÓRIO\n",
      "==================================================\n"
     ]
    }
   ],
   "source": [
    "print(\"\\n\" + \"=\"*50)\n",
    "print(\"     RELATÓRIO DE ANÁLISE DE VENDAS - AGOSTO\")\n",
    "print(\"=\"*50)\n",
    "\n",
    "print(f\"TOTAL DE DIAS ANALISADOS: {numero_dias} dias\")\n",
    "print(f\"TOTAL GERAL DE VENDAS: R$ {total_vendas_mes:.2f}\")\n",
    "print(f\"MÉDIA DIÁRIA DE VENDAS: R$ {media_diaria:.2f}\")\n",
    "print(\"-\" * 50)\n",
    "\n",
    "print(\"ANÁLISE SEMANAL DE VENDAS:\")\n",
    "# Itera sobre a lista de somas semanais (calculada no Passo 2 - Final)\n",
    "for num, total in enumerate(somas_semanais):\n",
    "    print(f\"  - Semana {num + 1}: R$ {total:.2f}\")\n",
    "print(\"-\" * 50)\n",
    "\n",
    "\n",
    "print(\"MELHOR DIA DE VENDAS:\")\n",
    "print(f\"Dia: {dia_max}\")\n",
    "print(f\"Valor Recorde: R$ {max_venda:.2f}\")\n",
    "print(\"-\" * 50)\n",
    "\n",
    "print(\"PONTO DE ATENÇÃO:\")\n",
    "print(f\"Dia: {dia_min}\")\n",
    "print(f\"Valor Mínimo: R$ {min_venda:.2f}\")\n",
    "print(\"-\" * 50)\n",
    "\n",
    "print(\"INSIGHTS DE PICO\")\n",
    "print(f\"O pico de vendas ({dia_max}) superou a média diária em {diferenca_percentual:.2f}%.\")\n",
    "print(\"=\"*50)\n",
    "\n",
    "print(\"\\n\" + \"=\" * 50)\n",
    "print(\"FIM DO RELATÓRIO\")\n",
    "print(\"=\" * 50)\n"
   ]
  },
  {
   "cell_type": "code",
   "execution_count": null,
   "id": "b08df491-30ea-43c3-a041-c72bf926d468",
   "metadata": {},
   "outputs": [],
   "source": []
  }
 ],
 "metadata": {
  "kernelspec": {
   "display_name": "Python [conda env:anaconda3]",
   "language": "python",
   "name": "conda-env-anaconda3-py"
  },
  "language_info": {
   "codemirror_mode": {
    "name": "ipython",
    "version": 3
   },
   "file_extension": ".py",
   "mimetype": "text/x-python",
   "name": "python",
   "nbconvert_exporter": "python",
   "pygments_lexer": "ipython3",
   "version": "3.13.5"
  }
 },
 "nbformat": 4,
 "nbformat_minor": 5
}
